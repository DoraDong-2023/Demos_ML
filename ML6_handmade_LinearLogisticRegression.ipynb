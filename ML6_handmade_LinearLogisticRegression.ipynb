{
 "cells": [
  {
   "cell_type": "markdown",
   "id": "7261da76",
   "metadata": {},
   "source": [
    "# Linear Regression"
   ]
  },
  {
   "cell_type": "markdown",
   "id": "7b6f0a9e",
   "metadata": {},
   "source": [
    "The hypothesis function for linear regression is:\n",
    "\n",
    "$$\n",
    "y = X w\n",
    "$$\n",
    "\n",
    "$$\n",
    "\\min_{w} \\| X w - y \\|^2_2 + \\alpha \\| w \\|^2_2 \\\\\n",
    "$$\n",
    "\n",
    "$$\n",
    "w = (X^T X + \\alpha I)^{-1} X^T y\n",
    "$$"
   ]
  },
  {
   "cell_type": "code",
   "execution_count": null,
   "id": "9fa56ce4",
   "metadata": {
    "ExecuteTime": {
     "end_time": "2021-10-07T03:07:46.761054Z",
     "start_time": "2021-10-07T03:07:46.747099Z"
    }
   },
   "outputs": [],
   "source": [
    "class LinearRegression():\n",
    "    def __init__(self, alpha=0):\n",
    "        self.alpha = alpha\n",
    "        self.w = None\n",
    "    def train(self, X, y):\n",
    "        self.w = np.linalg.solve(np.dot(X.T, X)+self.alpha*np.eye(X.shape[1]), np.dot(X.T, y))\n",
    "    def predict(self, X):\n",
    "        y_pred = np.dot(X, self.w)\n",
    "        return y_pred"
   ]
  },
  {
   "cell_type": "code",
   "execution_count": null,
   "id": "52c34a9c",
   "metadata": {},
   "outputs": [],
   "source": [
    "model = LinearRegression()\n",
    "model.train(X_train, y_train)\n",
    "y_pred = model.predict(X_test)"
   ]
  },
  {
   "cell_type": "markdown",
   "id": "626428a2",
   "metadata": {},
   "source": [
    "# Logistic Regression"
   ]
  },
  {
   "cell_type": "markdown",
   "id": "06537095",
   "metadata": {},
   "source": [
    "The hypothesis function for logistic regression is:\n",
    "\n",
    "$$\n",
    "y = \\sigma(X w)\n",
    "$$\n",
    "\n",
    "$$\n",
    "\\min_{w} \\ -y^T \\ \\text{log}(\\sigma(Xw)) \\ - \\  (\\mathbf{1} - y)^T \\ \\text{log}(\\mathbf{1} - \\sigma(Xw)) \\ + \\ \\alpha \\| w \\|^2_2 \\\\\n",
    "$$\n",
    "\n",
    "$$\n",
    "g = X^T \\Big(\\sigma(Xw) - y\\Big) + 2 \\alpha w\n",
    "$$\n",
    "\n",
    "### gradient descent here"
   ]
  },
  {
   "cell_type": "code",
   "execution_count": null,
   "id": "323045b0",
   "metadata": {
    "ExecuteTime": {
     "end_time": "2021-10-07T03:14:07.008030Z",
     "start_time": "2021-10-07T03:14:06.988485Z"
    }
   },
   "outputs": [],
   "source": [
    "class LogisticRegression():\n",
    "    def __init__(self, alpha=0, t=100, eta=1e-3):\n",
    "        self.alpha = alpha\n",
    "        self.t = t\n",
    "        self.eta = eta\n",
    "        self.w = None\n",
    "    def train(self, X, y):\n",
    "        self.w = np.zeros((X.shape[1], 1))\n",
    "        losses = np.zeros((self.t, 1))\n",
    "        for i in range(self.t):\n",
    "            self.w = self.w-self.eta*self._gradient(X, y)\n",
    "            losses[i] = self._loss(X, y)\n",
    "        return losses\n",
    "    def predict(self, X):\n",
    "        return np.round(self._sigmoid(np.dot(X, self.w)))\n",
    "    def _loss(self, X, y):\n",
    "        loss = -np.dot(y.T, np.log(self._sigmoid(np.dot(X, self.w))))\n",
    "        loss = loss-np.dot((1-y).T, np.log(1-self._sigmoid(np.dot(X, self.w)))) \n",
    "        loss = loss+self.alpha*np.linalg.norm(self.w)\n",
    "        return loss\n",
    "    def _gradient(self, X, y):\n",
    "        g = np.dot(X.T, (self._sigmoid(np.dot(X, self.w))-y))+2*self.alpha*self.w\n",
    "        return g\n",
    "    def _sigmoid(self, x):\n",
    "        return 1 / (1 + np.exp(-x))"
   ]
  },
  {
   "cell_type": "code",
   "execution_count": null,
   "id": "d78fb8f3",
   "metadata": {
    "ExecuteTime": {
     "end_time": "2021-10-07T03:14:56.207356Z",
     "start_time": "2021-10-07T03:14:55.990691Z"
    }
   },
   "outputs": [],
   "source": [
    "\n",
    "model = LogisticRegression(alpha=0, t=100, eta=1e-3)\n",
    "losses = model.train(cancer_X_train, cancer_y_train.reshape(-1,1))\n"
   ]
  },
  {
   "cell_type": "code",
   "execution_count": null,
   "id": "ceeacb19",
   "metadata": {},
   "outputs": [],
   "source": []
  }
 ],
 "metadata": {
  "kernelspec": {
   "display_name": "Python 3 (ipykernel)",
   "language": "python",
   "name": "python3"
  },
  "language_info": {
   "codemirror_mode": {
    "name": "ipython",
    "version": 3
   },
   "file_extension": ".py",
   "mimetype": "text/x-python",
   "name": "python",
   "nbconvert_exporter": "python",
   "pygments_lexer": "ipython3",
   "version": "3.8.11"
  }
 },
 "nbformat": 4,
 "nbformat_minor": 5
}
