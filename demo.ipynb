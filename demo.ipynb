{
 "cells": [
  {
   "cell_type": "code",
   "execution_count": 1,
   "metadata": {
    "id": "0m9PSUma1s-v"
   },
   "outputs": [
    {
     "name": "stderr",
     "output_type": "stream",
     "text": [
      "/Users/doradong/anaconda3/lib/python3.7/site-packages/pandas/compat/_optional.py:138: UserWarning: Pandas requires version '2.7.0' or newer of 'numexpr' (version '2.6.9' currently installed).\n",
      "  warnings.warn(msg, UserWarning)\n"
     ]
    }
   ],
   "source": [
    "import pandas as pd\n",
    "import numpy as np\n",
    "import matplotlib.pyplot as plt\n",
    "import re\n",
    "import tensorflow as tf\n",
    "\n",
    "from tensorflow.keras.models import Sequential\n",
    "from tensorflow.keras.layers import Dense, Activation, Flatten\n",
    "import tensorflow.keras.optimizers as optimizers\n",
    "\n"
   ]
  },
  {
   "cell_type": "code",
   "execution_count": null,
   "metadata": {
    "id": "1U6KI4pgBQ7D"
   },
   "outputs": [],
   "source": [
    "#!pip install -r requirements.txt"
   ]
  },
  {
   "cell_type": "code",
   "execution_count": null,
   "metadata": {
    "id": "shDQxdnh11Jc"
   },
   "outputs": [],
   "source": [
    "#from google.colab import drive\n",
    "#drive.mount('/content/drive')\n"
   ]
  },
  {
   "cell_type": "code",
   "execution_count": null,
   "metadata": {
    "id": "RvOMybysICmV"
   },
   "outputs": [],
   "source": [
    "#cd '/content/drive/MyDrive/Colab Notebooks/SpareTasks/220612_criminal/'"
   ]
  },
  {
   "cell_type": "code",
   "execution_count": null,
   "metadata": {
    "id": "OsbzlTwD4Wn-"
   },
   "outputs": [],
   "source": [
    "#!unzip used.zip"
   ]
  },
  {
   "cell_type": "code",
   "execution_count": 2,
   "metadata": {
    "id": "W6nV_SGD1s-z"
   },
   "outputs": [
    {
     "name": "stdout",
     "output_type": "stream",
     "text": [
      "Found 2995 files belonging to 2 classes.\n",
      "Using 2396 files for training.\n",
      "Found 2995 files belonging to 2 classes.\n",
      "Using 599 files for validation.\n"
     ]
    }
   ],
   "source": [
    "# load dataset\n",
    "def load_data(data_dir='./used',split_rate=0.2,batch_size=32,image_size=(224,224),seed=123):\n",
    "    train_ds = tf.keras.preprocessing.image_dataset_from_directory(\n",
    "        data_dir,\n",
    "        color_mode=\"rgb\",\n",
    "        validation_split=split_rate,\n",
    "        subset=\"training\",\n",
    "        seed=seed,\n",
    "        batch_size=batch_size,\n",
    "        image_size=image_size)\n",
    "\n",
    "    val_ds = tf.keras.preprocessing.image_dataset_from_directory(\n",
    "        data_dir,\n",
    "        color_mode=\"rgb\",\n",
    "        validation_split=split_rate,\n",
    "        subset=\"validation\",\n",
    "        seed=seed,\n",
    "        batch_size=batch_size,\n",
    "        image_size=image_size)\n",
    "    return train_ds, val_ds\n",
    "train_ds, val_ds = load_data('./data/used')"
   ]
  },
  {
   "cell_type": "code",
   "execution_count": 5,
   "metadata": {
    "id": "Rb_KHXIU1s-0"
   },
   "outputs": [
    {
     "name": "stdout",
     "output_type": "stream",
     "text": [
      "Model: \"sequential_1\"\n",
      "_________________________________________________________________\n",
      " Layer (type)                Output Shape              Param #   \n",
      "=================================================================\n",
      " resnet50 (Functional)       (None, 2048)              23587712  \n",
      "                                                                 \n",
      " flatten_1 (Flatten)         (None, 2048)              0         \n",
      "                                                                 \n",
      " dense_2 (Dense)             (None, 512)               1049088   \n",
      "                                                                 \n",
      " dense_3 (Dense)             (None, 1)                 513       \n",
      "                                                                 \n",
      "=================================================================\n",
      "Total params: 24,637,313\n",
      "Trainable params: 1,049,601\n",
      "Non-trainable params: 23,587,712\n",
      "_________________________________________________________________\n"
     ]
    }
   ],
   "source": [
    "# transfer learning\n",
    "def build_model(num_class=2,transfer_index=True):\n",
    "    if transfer_index==True:\n",
    "        resnet_model = Sequential()\n",
    "\n",
    "        pretrained_model= tf.keras.applications.ResNet50(include_top=False,\n",
    "                           input_shape=(224,224,3),\n",
    "                           pooling='avg',classes=num_class,\n",
    "                           weights='imagenet')\n",
    "        for layer in pretrained_model.layers:\n",
    "                layer.trainable=False\n",
    "\n",
    "        resnet_model.add(pretrained_model)\n",
    "\n",
    "        resnet_model.add(Flatten())\n",
    "        resnet_model.add(Dense(512, activation='relu'))\n",
    "        if num_class>=2:\n",
    "            resnet_model.add(Dense(num_class, activation='softmax'))\n",
    "        else:\n",
    "            resnet_model.add(Dense(num_class, activation='sigmoid'))\n",
    "        return resnet_model\n",
    "    else:\n",
    "        model = Sequential([\n",
    "            Dense(64, input_shape=(100,)),\n",
    "            Activation('relu'),\n",
    "            Dense(num_class),\n",
    "            Activation('softmax'),\n",
    "        ])\n",
    "        return model\n",
    "num_class = 1\n",
    "model = build_model(num_class=num_class, transfer_index=True)\n",
    "model.summary()"
   ]
  },
  {
   "cell_type": "code",
   "execution_count": 6,
   "metadata": {
    "id": "ws3IMAp-1s-1"
   },
   "outputs": [
    {
     "name": "stdout",
     "output_type": "stream",
     "text": [
      "Epoch 1/10\n",
      "75/75 [==============================] - 248s 3s/step - loss: 0.0162 - accuracy: 0.9883 - val_loss: 3.3217e-23 - val_accuracy: 1.0000\n",
      "Epoch 2/10\n",
      "75/75 [==============================] - 249s 3s/step - loss: 1.1713e-19 - accuracy: 1.0000 - val_loss: 3.2594e-23 - val_accuracy: 1.0000\n",
      "Epoch 3/10\n",
      "75/75 [==============================] - 231s 3s/step - loss: 1.1711e-19 - accuracy: 1.0000 - val_loss: 3.2594e-23 - val_accuracy: 1.0000\n",
      "Epoch 4/10\n",
      "75/75 [==============================] - 228s 3s/step - loss: 1.1711e-19 - accuracy: 1.0000 - val_loss: 3.2594e-23 - val_accuracy: 1.0000\n",
      "Epoch 5/10\n",
      "75/75 [==============================] - 222s 3s/step - loss: 1.1711e-19 - accuracy: 1.0000 - val_loss: 3.2594e-23 - val_accuracy: 1.0000\n",
      "Epoch 6/10\n",
      "75/75 [==============================] - 236s 3s/step - loss: 1.1711e-19 - accuracy: 1.0000 - val_loss: 3.2594e-23 - val_accuracy: 1.0000\n"
     ]
    }
   ],
   "source": [
    "\n",
    "callback1 = tf.keras.callbacks.EarlyStopping(monitor='loss', patience=1)\n",
    "callback2 = tf.keras.callbacks.ModelCheckpoint('./model/', monitor='val_loss', verbose=0,\n",
    "                                save_best_only=False, \n",
    "                                save_weights_only=False, mode='auto')\n",
    "if num_class==1:\n",
    "    model.compile(loss='binary_crossentropy',\n",
    "                  optimizer=optimizers.SGD(lr=0.01, momentum=0.9, nesterov=True),\n",
    "                  metrics=['accuracy'])\n",
    "else:\n",
    "    model.compile(loss='categorical_crossentropy',\n",
    "                  optimizer=optimizers.SGD(lr=0.01, momentum=0.9, nesterov=True),\n",
    "                  metrics=['accuracy'])\n",
    "\n",
    "\n",
    "history = model.fit(train_ds, validation_data=val_ds, epochs=10, callbacks=[callback1, callback2])\n",
    "model.save('model/my_model.h5')"
   ]
  },
  {
   "cell_type": "code",
   "execution_count": 8,
   "metadata": {
    "id": "oHE6X7o81s-2"
   },
   "outputs": [
    {
     "data": {
      "image/png": "[encoded data removed]",
      "text/plain": [
       "<Figure size 432x288 with 1 Axes>"
      ]
     },
     "metadata": {
      "needs_background": "light"
     },
     "output_type": "display_data"
    }
   ],
   "source": [
    "fig1 = plt.gcf()\n",
    "plt.plot(history.history['accuracy'])\n",
    "plt.plot(history.history['val_accuracy'])\n",
    "plt.grid()\n",
    "plt.title('Model Accuracy')\n",
    "plt.ylabel('Accuracy')\n",
    "plt.xlabel('Epochs')\n",
    "plt.legend(['train', 'validation'])\n",
    "plt.show()\n"
   ]
  },
  {
   "cell_type": "code",
   "execution_count": null,
   "metadata": {
    "id": "PSvUM8-81s-3"
   },
   "outputs": [],
   "source": []
  },
  {
   "cell_type": "code",
   "execution_count": null,
   "metadata": {
    "id": "pqA3tteo1s-3"
   },
   "outputs": [],
   "source": []
  },
  {
   "cell_type": "code",
   "execution_count": null,
   "metadata": {
    "id": "7GaP2mUY1s-3"
   },
   "outputs": [],
   "source": []
  },
  {
   "cell_type": "code",
   "execution_count": null,
   "metadata": {
    "id": "khsbLlzZ1s-4"
   },
   "outputs": [],
   "source": [
    "\"\"\"\n",
    "# ks score\n",
    "from sklearn.metrics import roc_auc_score,roc_curve\n",
    "y_pre=model.predict_proba(X_test)\n",
    "y_0=list(y_pre[:,1])\n",
    "\n",
    "fpr,tpr,thresholds=roc_curve(y_test,y_0)  #计算fpr,tpr,thresholds\n",
    "auc=roc_auc_score(y_test,y_0)\n",
    "\n",
    "KS_max=0\n",
    "best_thr=0\n",
    "for i in range(len(fpr)):\n",
    "    if(i==0):\n",
    "        KS_max=tpr[i]-fpr[i]\n",
    "        best_thr=thresholds[i]\n",
    "    elif (tpr[i]-fpr[i]>KS_max):\n",
    "        KS_max = tpr[i] - fpr[i]\n",
    "        best_thr = thresholds[i]\n",
    "\"\"\"\n",
    "\n"
   ]
  },
  {
   "cell_type": "code",
   "execution_count": 20,
   "metadata": {},
   "outputs": [
    {
     "name": "stderr",
     "output_type": "stream",
     "text": [
      "/Users/doradong/anaconda3/lib/python3.7/site-packages/ipykernel_launcher.py:4: UserWarning: `Model.evaluate_generator` is deprecated and will be removed in a future version. Please use `Model.evaluate`, which supports generators.\n",
      "  after removing the cwd from sys.path.\n"
     ]
    },
    {
     "name": "stdout",
     "output_type": "stream",
     "text": [
      "19/19 [==============================] - 36s 2s/step - loss: 3.2594e-23 - accuracy: 1.0000\n"
     ]
    }
   ],
   "source": [
    "#model.load_weights('./model/')\n",
    "model = tf.keras.models.load_model('./model/my_model.h5')\n",
    "\n",
    "pred = model.evaluate_generator(val_ds, verbose=1)"
   ]
  },
  {
   "cell_type": "code",
   "execution_count": 25,
   "metadata": {},
   "outputs": [
    {
     "name": "stdout",
     "output_type": "stream",
     "text": [
      "The loss is 3.2593978177078996e-23\n",
      "The accuracy of validation set is 1.0\n"
     ]
    }
   ],
   "source": [
    "print('The loss is {}\\nThe accuracy of validation set is {}'.format(pred[0], pred[1]))"
   ]
  },
  {
   "cell_type": "code",
   "execution_count": 51,
   "metadata": {
    "id": "kPTiTr3K1s-4"
   },
   "outputs": [
    {
     "name": "stdout",
     "output_type": "stream",
     "text": [
      "[[2.0127497e-21]] 0\n",
      "The predicted class is normal\n"
     ]
    },
    {
     "name": "stderr",
     "output_type": "stream",
     "text": [
      "/Users/doradong/anaconda3/lib/python3.7/site-packages/ipykernel_launcher.py:8: DeprecationWarning: `np.int` is a deprecated alias for the builtin `int`. To silence this warning, use `int` by itself. Doing this will not modify any behavior and is safe. When replacing `np.int`, you may wish to use e.g. `np.int64` or `np.int32` to specify the precision. If you wish to review your current use, check the release note link for additional information.\n",
      "Deprecated in NumPy 1.20; for more details and guidance: https://numpy.org/devdocs/release/1.20.0-notes.html#deprecations\n",
      "  \n"
     ]
    }
   ],
   "source": [
    "# inference of single image\n",
    "import cv2\n",
    "image=cv2.imread('./data/used/front/A00147')\n",
    "image_resized= cv2.resize(image, (224,224))\n",
    "image=np.expand_dims(image_resized,axis=0)\n",
    "\n",
    "pred=model.predict(image)\n",
    "pred = np.int(np.round(pred))\n",
    "print(model.predict(image),pred)\n",
    "\n",
    "def transfer_names(val_ds):\n",
    "    class_names = []\n",
    "    for name in val_ds.class_names:\n",
    "        if name=='front':\n",
    "            class_names.append('criminal')\n",
    "        else:\n",
    "            class_names.append('normal')\n",
    "    return class_names\n",
    "class_names = transfer_names(val_ds)\n",
    "output_class=class_names[int(pred)]\n",
    "print(\"The predicted class is\", output_class)"
   ]
  },
  {
   "cell_type": "code",
   "execution_count": 42,
   "metadata": {
    "id": "NgqqC3zX1s-5"
   },
   "outputs": [],
   "source": [
    "# tkinter\n"
   ]
  },
  {
   "cell_type": "code",
   "execution_count": null,
   "metadata": {
    "id": "fuOcgnH41s-5"
   },
   "outputs": [],
   "source": []
  },
  {
   "cell_type": "code",
   "execution_count": null,
   "metadata": {},
   "outputs": [],
   "source": []
  }
 ],
 "metadata": {
  "accelerator": "GPU",
  "colab": {
   "collapsed_sections": [],
   "name": "demo.ipynb",
   "private_outputs": true,
   "provenance": []
  },
  "kernelspec": {
   "display_name": "Python 3",
   "language": "python",
   "name": "python3"
  },
  "language_info": {
   "codemirror_mode": {
    "name": "ipython",
    "version": 3
   },
   "file_extension": ".py",
   "mimetype": "text/x-python",
   "name": "python",
   "nbconvert_exporter": "python",
   "pygments_lexer": "ipython3",
   "version": "3.7.3"
  }
 },
 "nbformat": 4,
 "nbformat_minor": 1
}
